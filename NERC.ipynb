{
 "cells": [
  {
   "cell_type": "markdown",
   "id": "7d8f7951",
   "metadata": {},
   "source": [
    "# NERC"
   ]
  },
  {
   "cell_type": "markdown",
   "id": "ec4f40f4",
   "metadata": {},
   "source": [
    "**TODO: Add description**"
   ]
  },
  {
   "cell_type": "code",
   "execution_count": 1,
   "id": "791efb81",
   "metadata": {},
   "outputs": [],
   "source": [
    "# add all imports here\n",
    "import pandas as pd\n",
    "import numpy as np\n",
    "import time\n",
    "import matplotlib.pyplot as plt\n",
    "import seaborn as sns\n",
    "import os\n",
    "\n",
    "from prettytable import PrettyTable"
   ]
  },
  {
   "cell_type": "markdown",
   "id": "0558731a-c530-426b-ad89-9dda7c5e2bcf",
   "metadata": {
    "tags": []
   },
   "source": [
    "## Preprocessing\n",
    "Change all instances of \"geo\" to \"loc\" and \"gpe\" to \"misc\" to match with the test set. \n",
    "Commented out since the new training set is already saved as a file to save time in future runs. "
   ]
  },
  {
   "cell_type": "code",
   "execution_count": 2,
   "id": "c7018177-9009-468e-a019-4f4454306f80",
   "metadata": {},
   "outputs": [],
   "source": [
    "#start_time = time.time()\n",
    "#unprocessed_data = pd.read_csv(filepath_or_buffer=\"data/train/ner_dataset.csv\", sep=\",\", error_bad_lines=False, encoding= \"unicode_escape\")\n",
    "#unprocessed_data = unprocessed_data[:10000]\n",
    "#for i, tag in enumerate(unprocessed_data[\"Tag\"]):\n",
    "#    if \"geo\" in tag:\n",
    "#        unprocessed_data[\"Tag\"][i] = unprocessed_data[\"Tag\"][i].replace(\"geo\", \"loc\")\n",
    "#    elif \"gpe\" in tag:\n",
    "#        unprocessed_data[\"Tag\"][i] = unprocessed_data[\"Tag\"][i].replace(\"gpe\", \"misc\")\n",
    "#print(unprocessed_data[\"Tag\"][102])\n",
    "#print(\"--- %s seconds ---\" % (time.time() - start_time))\n",
    "#unprocessed_data.to_csv(path_or_buf=\"data/train/new_ner_dataset.csv\", sep=\",\", index=False)"
   ]
  },
  {
   "cell_type": "markdown",
   "id": "c426a38f",
   "metadata": {},
   "source": [
    "## EDA"
   ]
  },
  {
   "cell_type": "code",
   "execution_count": 3,
   "id": "66385156",
   "metadata": {},
   "outputs": [
    {
     "name": "stderr",
     "output_type": "stream",
     "text": [
      "C:\\Users\\brsdr\\AppData\\Local\\Temp/ipykernel_10844/371074509.py:1: FutureWarning: The error_bad_lines argument has been deprecated and will be removed in a future version. Use on_bad_lines in the future.\n",
      "\n",
      "\n",
      "  df = pd.read_csv('data/train/new_ner_dataset.csv', sep=\",\", error_bad_lines=False, encoding= \"unicode_escape\")\n"
     ]
    }
   ],
   "source": [
    "df = pd.read_csv('data/train/new_ner_dataset.csv', sep=\",\", error_bad_lines=False, encoding= \"unicode_escape\")"
   ]
  },
  {
   "cell_type": "code",
   "execution_count": 4,
   "id": "b837f3c9-a4c9-407c-82c4-1d0b959a17a8",
   "metadata": {},
   "outputs": [
    {
     "data": {
      "text/html": [
       "<div>\n",
       "<style scoped>\n",
       "    .dataframe tbody tr th:only-of-type {\n",
       "        vertical-align: middle;\n",
       "    }\n",
       "\n",
       "    .dataframe tbody tr th {\n",
       "        vertical-align: top;\n",
       "    }\n",
       "\n",
       "    .dataframe thead th {\n",
       "        text-align: right;\n",
       "    }\n",
       "</style>\n",
       "<table border=\"1\" class=\"dataframe\">\n",
       "  <thead>\n",
       "    <tr style=\"text-align: right;\">\n",
       "      <th></th>\n",
       "      <th>Sentence #</th>\n",
       "      <th>Word</th>\n",
       "      <th>POS</th>\n",
       "      <th>Tag</th>\n",
       "    </tr>\n",
       "  </thead>\n",
       "  <tbody>\n",
       "    <tr>\n",
       "      <th>0</th>\n",
       "      <td>Sentence: 1</td>\n",
       "      <td>Thousands</td>\n",
       "      <td>NNS</td>\n",
       "      <td>O</td>\n",
       "    </tr>\n",
       "    <tr>\n",
       "      <th>1</th>\n",
       "      <td>NaN</td>\n",
       "      <td>of</td>\n",
       "      <td>IN</td>\n",
       "      <td>O</td>\n",
       "    </tr>\n",
       "    <tr>\n",
       "      <th>2</th>\n",
       "      <td>NaN</td>\n",
       "      <td>demonstrators</td>\n",
       "      <td>NNS</td>\n",
       "      <td>O</td>\n",
       "    </tr>\n",
       "    <tr>\n",
       "      <th>3</th>\n",
       "      <td>NaN</td>\n",
       "      <td>have</td>\n",
       "      <td>VBP</td>\n",
       "      <td>O</td>\n",
       "    </tr>\n",
       "    <tr>\n",
       "      <th>4</th>\n",
       "      <td>NaN</td>\n",
       "      <td>marched</td>\n",
       "      <td>VBN</td>\n",
       "      <td>O</td>\n",
       "    </tr>\n",
       "    <tr>\n",
       "      <th>...</th>\n",
       "      <td>...</td>\n",
       "      <td>...</td>\n",
       "      <td>...</td>\n",
       "      <td>...</td>\n",
       "    </tr>\n",
       "    <tr>\n",
       "      <th>1048570</th>\n",
       "      <td>NaN</td>\n",
       "      <td>they</td>\n",
       "      <td>PRP</td>\n",
       "      <td>O</td>\n",
       "    </tr>\n",
       "    <tr>\n",
       "      <th>1048571</th>\n",
       "      <td>NaN</td>\n",
       "      <td>responded</td>\n",
       "      <td>VBD</td>\n",
       "      <td>O</td>\n",
       "    </tr>\n",
       "    <tr>\n",
       "      <th>1048572</th>\n",
       "      <td>NaN</td>\n",
       "      <td>to</td>\n",
       "      <td>TO</td>\n",
       "      <td>O</td>\n",
       "    </tr>\n",
       "    <tr>\n",
       "      <th>1048573</th>\n",
       "      <td>NaN</td>\n",
       "      <td>the</td>\n",
       "      <td>DT</td>\n",
       "      <td>O</td>\n",
       "    </tr>\n",
       "    <tr>\n",
       "      <th>1048574</th>\n",
       "      <td>NaN</td>\n",
       "      <td>attack</td>\n",
       "      <td>NN</td>\n",
       "      <td>O</td>\n",
       "    </tr>\n",
       "  </tbody>\n",
       "</table>\n",
       "<p>1048575 rows × 4 columns</p>\n",
       "</div>"
      ],
      "text/plain": [
       "          Sentence #           Word  POS Tag\n",
       "0        Sentence: 1      Thousands  NNS   O\n",
       "1                NaN             of   IN   O\n",
       "2                NaN  demonstrators  NNS   O\n",
       "3                NaN           have  VBP   O\n",
       "4                NaN        marched  VBN   O\n",
       "...              ...            ...  ...  ..\n",
       "1048570          NaN           they  PRP   O\n",
       "1048571          NaN      responded  VBD   O\n",
       "1048572          NaN             to   TO   O\n",
       "1048573          NaN            the   DT   O\n",
       "1048574          NaN         attack   NN   O\n",
       "\n",
       "[1048575 rows x 4 columns]"
      ]
     },
     "execution_count": 4,
     "metadata": {},
     "output_type": "execute_result"
    }
   ],
   "source": [
    "df"
   ]
  },
  {
   "cell_type": "code",
   "execution_count": 5,
   "id": "095a3273-2ce2-4989-aad8-143a0dc1d57c",
   "metadata": {},
   "outputs": [
    {
     "name": "stdout",
     "output_type": "stream",
     "text": [
      "Total number of sentences:  47960\n",
      "Total number of words:  1048575\n",
      "Total number of unique words:  35178\n",
      "Total number of tags:  1048575\n",
      "Total number of unique tags:  17\n"
     ]
    }
   ],
   "source": [
    "# first insight into the data\n",
    "print(\"Total number of sentences: \", len(df[\"Sentence #\"].unique()))\n",
    "\n",
    "print(\"Total number of words: \", len(df[\"Word\"]))\n",
    "print(\"Total number of unique words: \", len(df[\"Word\"].unique()))\n",
    "\n",
    "print(\"Total number of tags: \", len(df[\"Tag\"]))\n",
    "print(\"Total number of unique tags: \", len(df[\"Tag\"].unique()))\n",
    "\n"
   ]
  },
  {
   "cell_type": "code",
   "execution_count": 6,
   "id": "7dae70a9",
   "metadata": {},
   "outputs": [
    {
     "name": "stdout",
     "output_type": "stream",
     "text": [
      "O         887908\n",
      "B-loc      37644\n",
      "B-tim      20333\n",
      "B-org      20143\n",
      "I-per      17251\n",
      "B-per      16990\n",
      "I-org      16784\n",
      "B-misc     15870\n",
      "I-loc       7414\n",
      "I-tim       6528\n",
      "B-art        402\n",
      "B-eve        308\n",
      "I-art        297\n",
      "I-eve        253\n",
      "B-nat        201\n",
      "I-misc       198\n",
      "I-nat         51\n",
      "Name: Tag, dtype: int64\n"
     ]
    },
    {
     "data": {
      "image/png": "[encoded data removed]",
      "text/plain": [
       "<Figure size 1440x720 with 1 Axes>"
      ]
     },
     "metadata": {
      "needs_background": "light"
     },
     "output_type": "display_data"
    },
    {
     "data": {
      "text/plain": [
       "<Figure size 432x288 with 0 Axes>"
      ]
     },
     "metadata": {},
     "output_type": "display_data"
    }
   ],
   "source": [
    "# more insight into the data\n",
    "print(df[\"Tag\"].value_counts())\n",
    "\n",
    "# plot the distribution of the tags\n",
    "fig, ax = plt.subplots(figsize=(20,10))\n",
    "sns.countplot(x=\"Tag\", data=df)\n",
    "# add counts and percentages to the plot\n",
    "for p in ax.patches:\n",
    "    ax.annotate('{:.3f}%'.format(100*p.get_height()/len(df)), (p.get_x()+0.1, p.get_height()+300))\n",
    "\n",
    "# set the title of the plot\n",
    "plt.title(\"Distribution of tags\")\n",
    "plt.show()\n",
    "plt.savefig(\"figures/distribution_of_tags_barplot.png\")\n",
    "\n",
    "\n",
    "\n"
   ]
  },
  {
   "cell_type": "code",
   "execution_count": 7,
   "id": "92a64b1e",
   "metadata": {},
   "outputs": [
    {
     "name": "stdout",
     "output_type": "stream",
     "text": [
      "NN      145807\n",
      "NNP     131426\n",
      "IN      120996\n",
      "DT       98454\n",
      "JJ       78412\n",
      "NNS      75840\n",
      ".        47831\n",
      "VBD      39379\n",
      ",        32757\n",
      "VBN      32328\n",
      "VBZ      24960\n",
      "CD       24695\n",
      "VB       24211\n",
      "CC       23716\n",
      "TO       23061\n",
      "RB       20252\n",
      "VBG      19125\n",
      "VBP      16158\n",
      "PRP      13318\n",
      "POS      11257\n",
      "PRP$      8655\n",
      "MD        6973\n",
      "``        3728\n",
      "WDT       3698\n",
      "JJS       3034\n",
      "JJR       2967\n",
      "WP        2542\n",
      "NNPS      2521\n",
      "RP        2490\n",
      "WRB       2184\n",
      "$         1149\n",
      "RBR       1055\n",
      ":          795\n",
      "RRB        679\n",
      "LRB        678\n",
      "EX         663\n",
      "RBS        296\n",
      ";          214\n",
      "PDT        147\n",
      "WP$         99\n",
      "UH          24\n",
      "FW           1\n",
      "Name: POS, dtype: int64\n"
     ]
    },
    {
     "data": {
      "image/png": "[encoded data removed]",
      "text/plain": [
       "<Figure size 1440x720 with 1 Axes>"
      ]
     },
     "metadata": {
      "needs_background": "light"
     },
     "output_type": "display_data"
    },
    {
     "data": {
      "text/plain": [
       "<Figure size 432x288 with 0 Axes>"
      ]
     },
     "metadata": {},
     "output_type": "display_data"
    }
   ],
   "source": [
    "# more insight into the data for POS tags (might be useful for the future)\n",
    "print(df[\"POS\"].value_counts())\n",
    "\n",
    "# plot the distribution of the tags\n",
    "fig, ax = plt.subplots(figsize=(20,10))\n",
    "sns.countplot(x=\"POS\", data=df)\n",
    "# add counts and percentages to the plot\n",
    "for p in ax.patches:\n",
    "    ax.annotate('{:.3f}%'.format(100*p.get_height()/len(df)), (p.get_x()+0.1, p.get_height()+300))\n",
    "\n",
    "# set the title of the plot\n",
    "plt.title(\"Distribution of POS\")\n",
    "plt.show()\n",
    "plt.savefig(\"figures/distribution_of_pos_barplot.png\")\n",
    "\n"
   ]
  },
  {
   "cell_type": "code",
   "execution_count": 8,
   "id": "f5b4ed79",
   "metadata": {},
   "outputs": [],
   "source": [
    "# fill the sentence # column with the sentence number\n",
    "df[\"Sentence #\"] = df[\"Sentence #\"].fillna(method=\"ffill\")"
   ]
  },
  {
   "cell_type": "code",
   "execution_count": 9,
   "id": "aad655b0",
   "metadata": {},
   "outputs": [
    {
     "name": "stdout",
     "output_type": "stream",
     "text": [
      "3     10621\n",
      "4      9419\n",
      "2      8856\n",
      "1      7042\n",
      "5      6551\n",
      "6      3477\n",
      "7      1440\n",
      "8       461\n",
      "9        86\n",
      "10        5\n",
      "11        1\n",
      "Name: Tag, dtype: int64\n"
     ]
    },
    {
     "data": {
      "image/png": "[encoded data removed]",
      "text/plain": [
       "<Figure size 1440x720 with 1 Axes>"
      ]
     },
     "metadata": {
      "needs_background": "light"
     },
     "output_type": "display_data"
    },
    {
     "data": {
      "text/plain": [
       "<Figure size 432x288 with 0 Axes>"
      ]
     },
     "metadata": {},
     "output_type": "display_data"
    }
   ],
   "source": [
    "\n",
    "# compare the unique tags on the sentence level\n",
    "\n",
    "# get the unique tags for each sentence\n",
    "unique_tags = df.groupby(\"Sentence #\")[\"Tag\"].unique()\n",
    "# find the number of unique tags for each sentence\n",
    "unique_tags_count = unique_tags.apply(lambda x: len(x))\n",
    "# print the number of unique tags for each sentence\n",
    "print(unique_tags_count.value_counts())\n",
    "\n",
    "# create a df with the number of unique tags for each sentence\n",
    "d = pd.DataFrame(unique_tags_count)\n",
    "d = d.reset_index()\n",
    "d.columns = [\"Sentence #\", \"Number of unique tags\"]\n",
    "\n",
    "\n",
    "#plot the distribution of the number of unique tags for each sentence\n",
    "fig, ax = plt.subplots(figsize=(20,10))\n",
    "sns.countplot(x=\"Number of unique tags\", data=d)\n",
    "# add percentages to the plot\n",
    "for p in ax.patches:\n",
    "    ax.annotate('{:.3f}%'.format(100*p.get_height()/len(d)), (p.get_x()+0.1, p.get_height()+300))\n",
    "\n",
    "\n",
    "# set the title of the plot\n",
    "plt.title(\"Distribution of number of unique tags per sentence\")\n",
    "plt.show()\n",
    "plt.savefig(\"figures/distribution_of_unique_tags_per_sentence_barplot.png\")\n",
    "\n",
    "\n"
   ]
  },
  {
   "cell_type": "markdown",
   "id": "c6f76903",
   "metadata": {},
   "source": [
    "## MODEL TRAINING"
   ]
  },
  {
   "cell_type": "markdown",
   "id": "63e79255-2600-4319-8d62-982fe9db7cdb",
   "metadata": {},
   "source": [
    "Prepare the data"
   ]
  },
  {
   "cell_type": "code",
   "execution_count": 10,
   "id": "b89afda0-851e-4b96-a305-2a6e062200c4",
   "metadata": {},
   "outputs": [
    {
     "name": "stderr",
     "output_type": "stream",
     "text": [
      "C:\\Users\\brsdr\\AppData\\Local\\Temp/ipykernel_10844/3070577754.py:3: FutureWarning: The error_bad_lines argument has been deprecated and will be removed in a future version. Use on_bad_lines in the future.\n",
      "\n",
      "\n",
      "  kaggle_dataset = pandas.read_csv(path, error_bad_lines=False)\n"
     ]
    },
    {
     "data": {
      "text/plain": [
       "1048575"
      ]
     },
     "execution_count": 10,
     "metadata": {},
     "output_type": "execute_result"
    }
   ],
   "source": [
    "import pandas\n",
    "path = r'data/train/new_ner_dataset.csv'\n",
    "kaggle_dataset = pandas.read_csv(path, error_bad_lines=False)\n",
    "len(kaggle_dataset)"
   ]
  },
  {
   "cell_type": "code",
   "execution_count": 11,
   "id": "f399cb3b-de8f-4fa3-88e9-0ff5628720b8",
   "metadata": {},
   "outputs": [],
   "source": [
    "test_data = pd.read_csv('data/test/NER-final-test.tsv', sep='\\t')"
   ]
  },
  {
   "cell_type": "markdown",
   "id": "2c9acb94-42ad-4335-8902-13a9f7f0411c",
   "metadata": {},
   "source": [
    "Create train and test sets"
   ]
  },
  {
   "cell_type": "code",
   "execution_count": 12,
   "id": "123ec469-7207-4da5-8626-264183034e42",
   "metadata": {},
   "outputs": [
    {
     "name": "stdout",
     "output_type": "stream",
     "text": [
      "1048575 214\n"
     ]
    }
   ],
   "source": [
    "df_train = kaggle_dataset[:1050000]\n",
    "df_test = test_data\n",
    "print(len(df_train), len(df_test))"
   ]
  },
  {
   "cell_type": "code",
   "execution_count": 13,
   "id": "efdb1f9c-5359-4a54-8fa8-68bacdd81326",
   "metadata": {},
   "outputs": [
    {
     "data": {
      "text/html": [
       "<div>\n",
       "<style scoped>\n",
       "    .dataframe tbody tr th:only-of-type {\n",
       "        vertical-align: middle;\n",
       "    }\n",
       "\n",
       "    .dataframe tbody tr th {\n",
       "        vertical-align: top;\n",
       "    }\n",
       "\n",
       "    .dataframe thead th {\n",
       "        text-align: right;\n",
       "    }\n",
       "</style>\n",
       "<table border=\"1\" class=\"dataframe\">\n",
       "  <thead>\n",
       "    <tr style=\"text-align: right;\">\n",
       "      <th></th>\n",
       "      <th>Sentence #</th>\n",
       "      <th>Word</th>\n",
       "      <th>POS</th>\n",
       "      <th>Tag</th>\n",
       "    </tr>\n",
       "  </thead>\n",
       "  <tbody>\n",
       "    <tr>\n",
       "      <th>0</th>\n",
       "      <td>Sentence: 1</td>\n",
       "      <td>Thousands</td>\n",
       "      <td>NNS</td>\n",
       "      <td>O</td>\n",
       "    </tr>\n",
       "    <tr>\n",
       "      <th>1</th>\n",
       "      <td>NaN</td>\n",
       "      <td>of</td>\n",
       "      <td>IN</td>\n",
       "      <td>O</td>\n",
       "    </tr>\n",
       "    <tr>\n",
       "      <th>2</th>\n",
       "      <td>NaN</td>\n",
       "      <td>demonstrators</td>\n",
       "      <td>NNS</td>\n",
       "      <td>O</td>\n",
       "    </tr>\n",
       "    <tr>\n",
       "      <th>3</th>\n",
       "      <td>NaN</td>\n",
       "      <td>have</td>\n",
       "      <td>VBP</td>\n",
       "      <td>O</td>\n",
       "    </tr>\n",
       "    <tr>\n",
       "      <th>4</th>\n",
       "      <td>NaN</td>\n",
       "      <td>marched</td>\n",
       "      <td>VBN</td>\n",
       "      <td>O</td>\n",
       "    </tr>\n",
       "    <tr>\n",
       "      <th>...</th>\n",
       "      <td>...</td>\n",
       "      <td>...</td>\n",
       "      <td>...</td>\n",
       "      <td>...</td>\n",
       "    </tr>\n",
       "    <tr>\n",
       "      <th>1048570</th>\n",
       "      <td>NaN</td>\n",
       "      <td>they</td>\n",
       "      <td>PRP</td>\n",
       "      <td>O</td>\n",
       "    </tr>\n",
       "    <tr>\n",
       "      <th>1048571</th>\n",
       "      <td>NaN</td>\n",
       "      <td>responded</td>\n",
       "      <td>VBD</td>\n",
       "      <td>O</td>\n",
       "    </tr>\n",
       "    <tr>\n",
       "      <th>1048572</th>\n",
       "      <td>NaN</td>\n",
       "      <td>to</td>\n",
       "      <td>TO</td>\n",
       "      <td>O</td>\n",
       "    </tr>\n",
       "    <tr>\n",
       "      <th>1048573</th>\n",
       "      <td>NaN</td>\n",
       "      <td>the</td>\n",
       "      <td>DT</td>\n",
       "      <td>O</td>\n",
       "    </tr>\n",
       "    <tr>\n",
       "      <th>1048574</th>\n",
       "      <td>NaN</td>\n",
       "      <td>attack</td>\n",
       "      <td>NN</td>\n",
       "      <td>O</td>\n",
       "    </tr>\n",
       "  </tbody>\n",
       "</table>\n",
       "<p>1048575 rows × 4 columns</p>\n",
       "</div>"
      ],
      "text/plain": [
       "          Sentence #           Word  POS Tag\n",
       "0        Sentence: 1      Thousands  NNS   O\n",
       "1                NaN             of   IN   O\n",
       "2                NaN  demonstrators  NNS   O\n",
       "3                NaN           have  VBP   O\n",
       "4                NaN        marched  VBN   O\n",
       "...              ...            ...  ...  ..\n",
       "1048570          NaN           they  PRP   O\n",
       "1048571          NaN      responded  VBD   O\n",
       "1048572          NaN             to   TO   O\n",
       "1048573          NaN            the   DT   O\n",
       "1048574          NaN         attack   NN   O\n",
       "\n",
       "[1048575 rows x 4 columns]"
      ]
     },
     "execution_count": 13,
     "metadata": {},
     "output_type": "execute_result"
    }
   ],
   "source": [
    "df_train"
   ]
  },
  {
   "cell_type": "code",
   "execution_count": 14,
   "id": "2bbfa069-07be-4258-aa0a-c6b704dc1a27",
   "metadata": {},
   "outputs": [
    {
     "data": {
      "text/html": [
       "<div>\n",
       "<style scoped>\n",
       "    .dataframe tbody tr th:only-of-type {\n",
       "        vertical-align: middle;\n",
       "    }\n",
       "\n",
       "    .dataframe tbody tr th {\n",
       "        vertical-align: top;\n",
       "    }\n",
       "\n",
       "    .dataframe thead th {\n",
       "        text-align: right;\n",
       "    }\n",
       "</style>\n",
       "<table border=\"1\" class=\"dataframe\">\n",
       "  <thead>\n",
       "    <tr style=\"text-align: right;\">\n",
       "      <th></th>\n",
       "      <th>sentence id</th>\n",
       "      <th>token id</th>\n",
       "      <th>token</th>\n",
       "      <th>BIO NER tag</th>\n",
       "    </tr>\n",
       "  </thead>\n",
       "  <tbody>\n",
       "    <tr>\n",
       "      <th>0</th>\n",
       "      <td>0</td>\n",
       "      <td>0</td>\n",
       "      <td>It</td>\n",
       "      <td>O</td>\n",
       "    </tr>\n",
       "    <tr>\n",
       "      <th>1</th>\n",
       "      <td>0</td>\n",
       "      <td>1</td>\n",
       "      <td>took</td>\n",
       "      <td>O</td>\n",
       "    </tr>\n",
       "    <tr>\n",
       "      <th>2</th>\n",
       "      <td>0</td>\n",
       "      <td>2</td>\n",
       "      <td>eight</td>\n",
       "      <td>O</td>\n",
       "    </tr>\n",
       "    <tr>\n",
       "      <th>3</th>\n",
       "      <td>0</td>\n",
       "      <td>3</td>\n",
       "      <td>years</td>\n",
       "      <td>O</td>\n",
       "    </tr>\n",
       "    <tr>\n",
       "      <th>4</th>\n",
       "      <td>0</td>\n",
       "      <td>4</td>\n",
       "      <td>for</td>\n",
       "      <td>O</td>\n",
       "    </tr>\n",
       "    <tr>\n",
       "      <th>...</th>\n",
       "      <td>...</td>\n",
       "      <td>...</td>\n",
       "      <td>...</td>\n",
       "      <td>...</td>\n",
       "    </tr>\n",
       "    <tr>\n",
       "      <th>209</th>\n",
       "      <td>9</td>\n",
       "      <td>12</td>\n",
       "      <td>get</td>\n",
       "      <td>O</td>\n",
       "    </tr>\n",
       "    <tr>\n",
       "      <th>210</th>\n",
       "      <td>9</td>\n",
       "      <td>13</td>\n",
       "      <td>into</td>\n",
       "      <td>O</td>\n",
       "    </tr>\n",
       "    <tr>\n",
       "      <th>211</th>\n",
       "      <td>9</td>\n",
       "      <td>14</td>\n",
       "      <td>this</td>\n",
       "      <td>O</td>\n",
       "    </tr>\n",
       "    <tr>\n",
       "      <th>212</th>\n",
       "      <td>9</td>\n",
       "      <td>15</td>\n",
       "      <td>one</td>\n",
       "      <td>O</td>\n",
       "    </tr>\n",
       "    <tr>\n",
       "      <th>213</th>\n",
       "      <td>9</td>\n",
       "      <td>16</td>\n",
       "      <td>.</td>\n",
       "      <td>O</td>\n",
       "    </tr>\n",
       "  </tbody>\n",
       "</table>\n",
       "<p>214 rows × 4 columns</p>\n",
       "</div>"
      ],
      "text/plain": [
       "     sentence id  token id  token BIO NER tag\n",
       "0              0         0     It           O\n",
       "1              0         1   took           O\n",
       "2              0         2  eight           O\n",
       "3              0         3  years           O\n",
       "4              0         4    for           O\n",
       "..           ...       ...    ...         ...\n",
       "209            9        12    get           O\n",
       "210            9        13   into           O\n",
       "211            9        14   this           O\n",
       "212            9        15    one           O\n",
       "213            9        16      .           O\n",
       "\n",
       "[214 rows x 4 columns]"
      ]
     },
     "execution_count": 14,
     "metadata": {},
     "output_type": "execute_result"
    }
   ],
   "source": [
    "df_test"
   ]
  },
  {
   "cell_type": "markdown",
   "id": "94f550c3-fb73-4da9-9992-987dc90cdb38",
   "metadata": {},
   "source": [
    "Training the model"
   ]
  },
  {
   "cell_type": "code",
   "execution_count": 15,
   "id": "c2564628-59ad-4788-9227-2385466c32df",
   "metadata": {},
   "outputs": [
    {
     "name": "stdout",
     "output_type": "stream",
     "text": [
      "Number of training instances:  1048575\n",
      "Number of test instances:  214\n"
     ]
    }
   ],
   "source": [
    "training_features = []\n",
    "training_gold_labels = []\n",
    "test_features = []\n",
    "test_gold_labels = []\n",
    "\n",
    "for index, row in df_train.iterrows():\n",
    "    a_dict = {\"words\": row['Word']}\n",
    "    training_features.append(a_dict)\n",
    "    training_gold_labels.append(row['Tag'])\n",
    "\n",
    "for index, row in df_test.iterrows():\n",
    "    a_dict = {\"words\": row['token']}\n",
    "    test_features.append(a_dict)\n",
    "    test_gold_labels.append(row['BIO NER tag'])\n",
    "\n",
    "# number of instances of train and test set\n",
    "print(\"Number of training instances: \", len(training_features))\n",
    "print(\"Number of test instances: \", len(test_features))"
   ]
  },
  {
   "cell_type": "code",
   "execution_count": 16,
   "id": "bc7d911e-750c-441b-a3e2-ff1e8779b13d",
   "metadata": {},
   "outputs": [],
   "source": [
    "from sklearn.feature_extraction import DictVectorizer\n",
    "vec = DictVectorizer()\n",
    "the_array = vec.fit_transform(training_features + test_features)\n",
    "train_array = the_array[:len(training_features)]\n",
    "test_array = the_array[len(training_features):]"
   ]
  },
  {
   "cell_type": "code",
   "execution_count": 17,
   "id": "e6ec9351-8a1c-42c5-b866-9087c4c2eacf",
   "metadata": {},
   "outputs": [
    {
     "data": {
      "text/html": [
       "<style>#sk-container-id-1 {color: black;background-color: white;}#sk-container-id-1 pre{padding: 0;}#sk-container-id-1 div.sk-toggleable {background-color: white;}#sk-container-id-1 label.sk-toggleable__label {cursor: pointer;display: block;width: 100%;margin-bottom: 0;padding: 0.3em;box-sizing: border-box;text-align: center;}#sk-container-id-1 label.sk-toggleable__label-arrow:before {content: \"▸\";float: left;margin-right: 0.25em;color: #696969;}#sk-container-id-1 label.sk-toggleable__label-arrow:hover:before {color: black;}#sk-container-id-1 div.sk-estimator:hover label.sk-toggleable__label-arrow:before {color: black;}#sk-container-id-1 div.sk-toggleable__content {max-height: 0;max-width: 0;overflow: hidden;text-align: left;background-color: #f0f8ff;}#sk-container-id-1 div.sk-toggleable__content pre {margin: 0.2em;color: black;border-radius: 0.25em;background-color: #f0f8ff;}#sk-container-id-1 input.sk-toggleable__control:checked~div.sk-toggleable__content {max-height: 200px;max-width: 100%;overflow: auto;}#sk-container-id-1 input.sk-toggleable__control:checked~label.sk-toggleable__label-arrow:before {content: \"▾\";}#sk-container-id-1 div.sk-estimator input.sk-toggleable__control:checked~label.sk-toggleable__label {background-color: #d4ebff;}#sk-container-id-1 div.sk-label input.sk-toggleable__control:checked~label.sk-toggleable__label {background-color: #d4ebff;}#sk-container-id-1 input.sk-hidden--visually {border: 0;clip: rect(1px 1px 1px 1px);clip: rect(1px, 1px, 1px, 1px);height: 1px;margin: -1px;overflow: hidden;padding: 0;position: absolute;width: 1px;}#sk-container-id-1 div.sk-estimator {font-family: monospace;background-color: #f0f8ff;border: 1px dotted black;border-radius: 0.25em;box-sizing: border-box;margin-bottom: 0.5em;}#sk-container-id-1 div.sk-estimator:hover {background-color: #d4ebff;}#sk-container-id-1 div.sk-parallel-item::after {content: \"\";width: 100%;border-bottom: 1px solid gray;flex-grow: 1;}#sk-container-id-1 div.sk-label:hover label.sk-toggleable__label {background-color: #d4ebff;}#sk-container-id-1 div.sk-serial::before {content: \"\";position: absolute;border-left: 1px solid gray;box-sizing: border-box;top: 0;bottom: 0;left: 50%;z-index: 0;}#sk-container-id-1 div.sk-serial {display: flex;flex-direction: column;align-items: center;background-color: white;padding-right: 0.2em;padding-left: 0.2em;position: relative;}#sk-container-id-1 div.sk-item {position: relative;z-index: 1;}#sk-container-id-1 div.sk-parallel {display: flex;align-items: stretch;justify-content: center;background-color: white;position: relative;}#sk-container-id-1 div.sk-item::before, #sk-container-id-1 div.sk-parallel-item::before {content: \"\";position: absolute;border-left: 1px solid gray;box-sizing: border-box;top: 0;bottom: 0;left: 50%;z-index: -1;}#sk-container-id-1 div.sk-parallel-item {display: flex;flex-direction: column;z-index: 1;position: relative;background-color: white;}#sk-container-id-1 div.sk-parallel-item:first-child::after {align-self: flex-end;width: 50%;}#sk-container-id-1 div.sk-parallel-item:last-child::after {align-self: flex-start;width: 50%;}#sk-container-id-1 div.sk-parallel-item:only-child::after {width: 0;}#sk-container-id-1 div.sk-dashed-wrapped {border: 1px dashed gray;margin: 0 0.4em 0.5em 0.4em;box-sizing: border-box;padding-bottom: 0.4em;background-color: white;}#sk-container-id-1 div.sk-label label {font-family: monospace;font-weight: bold;display: inline-block;line-height: 1.2em;}#sk-container-id-1 div.sk-label-container {text-align: center;}#sk-container-id-1 div.sk-container {/* jupyter's `normalize.less` sets `[hidden] { display: none; }` but bootstrap.min.css set `[hidden] { display: none !important; }` so we also need the `!important` here to be able to override the default hidden behavior on the sphinx rendered scikit-learn.org. See: https://github.com/scikit-learn/scikit-learn/issues/21755 */display: inline-block !important;position: relative;}#sk-container-id-1 div.sk-text-repr-fallback {display: none;}</style><div id=\"sk-container-id-1\" class=\"sk-top-container\"><div class=\"sk-text-repr-fallback\"><pre>LinearSVC()</pre><b>In a Jupyter environment, please rerun this cell to show the HTML representation or trust the notebook. <br />On GitHub, the HTML representation is unable to render, please try loading this page with nbviewer.org.</b></div><div class=\"sk-container\" hidden><div class=\"sk-item\"><div class=\"sk-estimator sk-toggleable\"><input class=\"sk-toggleable__control sk-hidden--visually\" id=\"sk-estimator-id-1\" type=\"checkbox\" checked><label for=\"sk-estimator-id-1\" class=\"sk-toggleable__label sk-toggleable__label-arrow\">LinearSVC</label><div class=\"sk-toggleable__content\"><pre>LinearSVC()</pre></div></div></div></div></div>"
      ],
      "text/plain": [
       "LinearSVC()"
      ]
     },
     "execution_count": 17,
     "metadata": {},
     "output_type": "execute_result"
    }
   ],
   "source": [
    "from sklearn import svm\n",
    "lin_clf = svm.LinearSVC()\n",
    "lin_clf.fit(train_array, training_gold_labels)"
   ]
  },
  {
   "cell_type": "markdown",
   "id": "204581a7",
   "metadata": {},
   "source": [
    "## EVALUATION"
   ]
  },
  {
   "cell_type": "code",
   "execution_count": 46,
   "id": "dd4ff38d-dd2c-4aa7-9a14-948e8310d73d",
   "metadata": {},
   "outputs": [],
   "source": [
    "predicted_labels = lin_clf.predict(test_array)\n",
    "predicted_labels_real=[]\n",
    "for i in predicted_labels:\n",
    "    if i == \"B-org\":\n",
    "         predicted_labels_real.append(\"B-ORG\")\n",
    "    elif i == \"I-org\":\n",
    "         predicted_labels_real.append(\"I-ORG\")\n",
    "    elif i == \"B-loc\":\n",
    "         predicted_labels_real.append(\"B-LOC\")\n",
    "    elif i == \"I-loc\":\n",
    "         predicted_labels_real.append(\"I-LOC\")\n",
    "    elif i == \"B-misc\":\n",
    "         predicted_labels_real.append(\"B-MISC\")\n",
    "    elif i == \"B-per\":\n",
    "         predicted_labels_real.append(\"B-PER\")\n",
    "    elif i == \"I-per\":\n",
    "         predicted_labels_real.append(\"I-PER\")\n",
    "    elif i == \"I-art\":\n",
    "         predicted_labels_real.append(\"I-ART\")\n",
    "    elif i == \"I-tim\":\n",
    "         predicted_labels_real.append(\"I-TIM\")\n",
    "    else:\n",
    "        predicted_labels_real.append(i)"
   ]
  },
  {
   "cell_type": "code",
   "execution_count": 49,
   "id": "8de72570-d637-43e8-a657-2fd8ffbb9abd",
   "metadata": {},
   "outputs": [
    {
     "name": "stdout",
     "output_type": "stream",
     "text": [
      "Accuracy:  0.9205607476635514\n",
      "Classification report: \n",
      "               precision    recall  f1-score   support\n",
      "\n",
      "       B-LOC       0.50      0.50      0.50         4\n",
      "      B-MISC       0.75      1.00      0.86         3\n",
      "       B-ORG       1.00      0.25      0.40         4\n",
      "       B-PER       1.00      0.50      0.67         6\n",
      "       I-ART       0.00      0.00      0.00         0\n",
      "       I-LOC       0.67      1.00      0.80         2\n",
      "      I-MISC       0.00      0.00      0.00         1\n",
      "       I-ORG       0.67      0.67      0.67         3\n",
      "       I-PER       0.50      0.25      0.33         8\n",
      "       I-TIM       0.00      0.00      0.00         0\n",
      "           O       0.96      0.99      0.98       183\n",
      "\n",
      "    accuracy                           0.92       214\n",
      "   macro avg       0.55      0.47      0.47       214\n",
      "weighted avg       0.92      0.92      0.91       214\n",
      "\n"
     ]
    },
    {
     "name": "stderr",
     "output_type": "stream",
     "text": [
      "C:\\Users\\brsdr\\AppData\\Local\\Programs\\Python\\Python310\\lib\\site-packages\\sklearn\\metrics\\_classification.py:1334: UndefinedMetricWarning: Precision and F-score are ill-defined and being set to 0.0 in labels with no predicted samples. Use `zero_division` parameter to control this behavior.\n",
      "  _warn_prf(average, modifier, msg_start, len(result))\n",
      "C:\\Users\\brsdr\\AppData\\Local\\Programs\\Python\\Python310\\lib\\site-packages\\sklearn\\metrics\\_classification.py:1334: UndefinedMetricWarning: Recall and F-score are ill-defined and being set to 0.0 in labels with no true samples. Use `zero_division` parameter to control this behavior.\n",
      "  _warn_prf(average, modifier, msg_start, len(result))\n",
      "C:\\Users\\brsdr\\AppData\\Local\\Programs\\Python\\Python310\\lib\\site-packages\\sklearn\\metrics\\_classification.py:1334: UndefinedMetricWarning: Precision and F-score are ill-defined and being set to 0.0 in labels with no predicted samples. Use `zero_division` parameter to control this behavior.\n",
      "  _warn_prf(average, modifier, msg_start, len(result))\n",
      "C:\\Users\\brsdr\\AppData\\Local\\Programs\\Python\\Python310\\lib\\site-packages\\sklearn\\metrics\\_classification.py:1334: UndefinedMetricWarning: Recall and F-score are ill-defined and being set to 0.0 in labels with no true samples. Use `zero_division` parameter to control this behavior.\n",
      "  _warn_prf(average, modifier, msg_start, len(result))\n",
      "C:\\Users\\brsdr\\AppData\\Local\\Programs\\Python\\Python310\\lib\\site-packages\\sklearn\\metrics\\_classification.py:1334: UndefinedMetricWarning: Precision and F-score are ill-defined and being set to 0.0 in labels with no predicted samples. Use `zero_division` parameter to control this behavior.\n",
      "  _warn_prf(average, modifier, msg_start, len(result))\n",
      "C:\\Users\\brsdr\\AppData\\Local\\Programs\\Python\\Python310\\lib\\site-packages\\sklearn\\metrics\\_classification.py:1334: UndefinedMetricWarning: Recall and F-score are ill-defined and being set to 0.0 in labels with no true samples. Use `zero_division` parameter to control this behavior.\n",
      "  _warn_prf(average, modifier, msg_start, len(result))\n"
     ]
    }
   ],
   "source": [
    "\n",
    "from sklearn.metrics import accuracy_score\n",
    "print(\"Accuracy: \", accuracy_score(test_gold_labels, predicted_labels_real))\n",
    "\n",
    "from sklearn.metrics import confusion_matrix\n",
    "#print(\"Confusion matrix: \\n\", confusion_matrix(test_gold_labels, predicted_labels))\n",
    "\n",
    "from sklearn.metrics import classification_report\n",
    "print(\"Classification report: \\n\", classification_report(test_gold_labels, predicted_labels_real))"
   ]
  },
  {
   "cell_type": "code",
   "execution_count": 50,
   "id": "fee87e6a-70bc-43dd-914c-1a9c5b65ab0d",
   "metadata": {},
   "outputs": [
    {
     "name": "stdout",
     "output_type": "stream",
     "text": [
      "['O', 'O', 'O', 'O', 'O', 'B-ORG', 'I-ORG', 'O', 'O', 'O', 'O', 'O', 'O', 'O', 'O', 'O', 'O', 'O', 'O', 'B-LOC', 'I-LOC', 'I-ORG', 'O', 'O', 'O', 'O', 'O', 'O', 'O', 'O', 'O', 'O', 'O', 'O', 'O', 'O', 'O', 'O', 'B-MISC', 'O', 'O', 'O', 'O', 'O', 'O', 'O', 'O', 'O', 'O', 'O', 'O', 'O', 'O', 'O', 'O', 'O', 'O', 'O', 'O', 'O', 'O', 'O', 'O', 'O', 'O', 'O', 'O', 'O', 'O', 'O', 'O', 'O', 'B-PER', 'O', 'O', 'O', 'O', 'O', 'O', 'O', 'O', 'O', 'O', 'O', 'O', 'O', 'O', 'O', 'O', 'I-PER', 'O', 'O', 'O', 'B-LOC', 'O', 'I-PER', 'O', 'O', 'O', 'O', 'O', 'O', 'B-MISC', 'B-MISC', 'O', 'O', 'O', 'O', 'O', 'I-ORG', 'O', 'B-PER', 'O', 'O', 'O', 'O', 'O', 'O', 'O', 'O', 'O', 'O', 'O', 'O', 'O', 'O', 'O', 'O', 'O', 'O', 'O', 'O', 'O', 'O', 'O', 'O', 'O', 'I-PER', 'I-TIM', 'O', 'O', 'O', 'O', 'O', 'O', 'O', 'O', 'O', 'O', 'O', 'O', 'O', 'O', 'O', 'O', 'O', 'O', 'O', 'O', 'O', 'I-ART', 'O', 'I-PER', 'O', 'O', 'O', 'O', 'O', 'O', 'O', 'O', 'O', 'O', 'O', 'O', 'O', 'O', 'O', 'O', 'O', 'B-PER', 'O', 'O', 'O', 'O', 'B-LOC', 'I-LOC', 'O', 'O', 'O', 'O', 'O', 'O', 'O', 'B-LOC', 'I-LOC', 'O', 'O', 'O', 'O', 'O', 'B-MISC', 'O', 'O', 'O', 'O', 'O', 'O', 'O', 'O', 'O', 'O', 'O', 'O']\n",
      "['O', 'O', 'O', 'O', 'O', 'B-ORG', 'I-ORG', 'O', 'O', 'O', 'O', 'O', 'O', 'O', 'O', 'O', 'O', 'O', 'O', 'B-ORG', 'I-ORG', 'I-ORG', 'O', 'O', 'O', 'O', 'O', 'B-LOC', 'O', 'O', 'O', 'O', 'O', 'O', 'O', 'O', 'O', 'O', 'B-MISC', 'O', 'O', 'O', 'O', 'O', 'O', 'O', 'O', 'O', 'O', 'O', 'O', 'O', 'O', 'O', 'O', 'O', 'O', 'O', 'O', 'O', 'O', 'O', 'O', 'O', 'O', 'O', 'O', 'O', 'O', 'O', 'O', 'O', 'B-PER', 'I-PER', 'O', 'O', 'O', 'O', 'O', 'O', 'O', 'O', 'O', 'O', 'O', 'O', 'O', 'O', 'O', 'B-PER', 'I-PER', 'O', 'O', 'B-PER', 'I-PER', 'I-PER', 'O', 'O', 'O', 'O', 'O', 'O', 'B-MISC', 'I-MISC', 'O', 'O', 'O', 'O', 'O', 'B-ORG', 'O', 'B-PER', 'I-PER', 'O', 'O', 'O', 'O', 'O', 'O', 'O', 'O', 'O', 'O', 'O', 'O', 'O', 'O', 'O', 'O', 'O', 'O', 'O', 'O', 'O', 'O', 'O', 'O', 'B-LOC', 'O', 'O', 'O', 'O', 'O', 'O', 'O', 'O', 'O', 'O', 'O', 'O', 'O', 'B-ORG', 'O', 'O', 'O', 'O', 'O', 'O', 'O', 'O', 'B-PER', 'I-PER', 'I-PER', 'O', 'O', 'O', 'O', 'O', 'O', 'O', 'O', 'O', 'O', 'O', 'O', 'O', 'O', 'O', 'O', 'O', 'B-PER', 'I-PER', 'O', 'O', 'O', 'B-LOC', 'I-LOC', 'O', 'O', 'O', 'O', 'O', 'O', 'O', 'B-LOC', 'I-LOC', 'O', 'O', 'O', 'O', 'O', 'B-MISC', 'O', 'O', 'O', 'O', 'O', 'O', 'O', 'O', 'O', 'O', 'O', 'O']\n"
     ]
    }
   ],
   "source": [
    "print(predicted_labels_real)\n",
    "print(test_gold_labels)"
   ]
  },
  {
   "cell_type": "markdown",
   "id": "42bfb10d",
   "metadata": {},
   "source": [
    "### VALIDATION SET"
   ]
  },
  {
   "cell_type": "markdown",
   "id": "0d745406",
   "metadata": {},
   "source": [
    "### TEST SET"
   ]
  },
  {
   "cell_type": "markdown",
   "id": "4dd4654d",
   "metadata": {},
   "source": []
  }
 ],
 "metadata": {
  "kernelspec": {
   "display_name": "Python 3 (ipykernel)",
   "language": "python",
   "name": "python3"
  },
  "language_info": {
   "codemirror_mode": {
    "name": "ipython",
    "version": 3
   },
   "file_extension": ".py",
   "mimetype": "text/x-python",
   "name": "python",
   "nbconvert_exporter": "python",
   "pygments_lexer": "ipython3",
   "version": "3.10.0"
  },
  "vscode": {
   "interpreter": {
    "hash": "8382cef7e68f4f856d7dd605fa8d3bfcec002265d1363facf2e5b61f7575780d"
   }
  }
 },
 "nbformat": 4,
 "nbformat_minor": 5
}
