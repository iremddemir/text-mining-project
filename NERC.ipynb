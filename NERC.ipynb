{
 "cells": [
  {
   "cell_type": "markdown",
   "id": "0558731a-c530-426b-ad89-9dda7c5e2bcf",
   "metadata": {
    "tags": []
   },
   "source": [
    "## Preprocessing\n",
    "Change all instances of \"geo\" to \"loc\" and \"gpe\" to \"misc\" to match with the test set. \n",
    "Commented out since the new training set is already saved as a file to save time in future runs. "
   ]
  },
  {
   "cell_type": "code",
   "execution_count": 1,
   "id": "c7018177-9009-468e-a019-4f4454306f80",
   "metadata": {},
   "outputs": [
    {
     "name": "stderr",
     "output_type": "stream",
     "text": [
      "C:\\Users\\Omer\\AppData\\Local\\Temp\\ipykernel_12680\\1733432153.py:4: FutureWarning: The error_bad_lines argument has been deprecated and will be removed in a future version. Use on_bad_lines in the future.\n",
      "\n",
      "\n",
      "  unprocessed_data = pd.read_csv(filepath_or_buffer=\"data/train/ner_dataset.csv\", sep=\",\", error_bad_lines=False, encoding= \"unicode_escape\")\n"
     ]
    },
    {
     "name": "stdout",
     "output_type": "stream",
     "text": [
      "B-misc\n",
      "--- 163.0342619419098 seconds ---\n"
     ]
    }
   ],
   "source": [
    "# import pandas as pd\n",
    "# import time\n",
    "# start_time = time.time()\n",
    "# unprocessed_data = pd.read_csv(filepath_or_buffer=\"data/train/ner_dataset.csv\", sep=\",\", error_bad_lines=False, encoding= \"unicode_escape\")\n",
    "# # unprocessed_data = unprocessed_data[:10000]\n",
    "# for i, tag in enumerate(unprocessed_data[\"Tag\"]):\n",
    "#     if \"geo\" in tag:\n",
    "#         unprocessed_data[\"Tag\"][i] = unprocessed_data[\"Tag\"][i].replace(\"geo\", \"loc\")\n",
    "#     elif \"gpe\" in tag:\n",
    "#         unprocessed_data[\"Tag\"][i] = unprocessed_data[\"Tag\"][i].replace(\"gpe\", \"misc\")\n",
    "# print(unprocessed_data[\"Tag\"][102])\n",
    "# print(\"--- %s seconds ---\" % (time.time() - start_time))\n",
    "# unprocessed_data.to_csv(path_or_buf=\"data/train/new_ner_dataset.csv\", sep=\",\", index=False)"
   ]
  },
  {
   "cell_type": "code",
   "execution_count": null,
   "id": "095a3273-2ce2-4989-aad8-143a0dc1d57c",
   "metadata": {},
   "outputs": [],
   "source": []
  }
 ],
 "metadata": {
  "kernelspec": {
   "display_name": "Python 3 (ipykernel)",
   "language": "python",
   "name": "python3"
  },
  "language_info": {
   "codemirror_mode": {
    "name": "ipython",
    "version": 3
   },
   "file_extension": ".py",
   "mimetype": "text/x-python",
   "name": "python",
   "nbconvert_exporter": "python",
   "pygments_lexer": "ipython3",
   "version": "3.9.13"
  }
 },
 "nbformat": 4,
 "nbformat_minor": 5
}
